{
 "cells": [
  {
   "cell_type": "markdown",
   "metadata": {},
   "source": [
    "FACE DETECTION USING LIVE FEED FROM WEBCAM"
   ]
  },
  {
   "cell_type": "code",
   "execution_count": 7,
   "metadata": {
    "collapsed": true
   },
   "outputs": [],
   "source": [
    "# Face Recognition\n",
    "\n",
    "# Importing the libraries\n",
    "import cv2\n",
    "\n",
    "# Loading the cascades\n",
    "# cascades - series of filters applied one after another to detect faces and eyes\n",
    "face_cascade = cv2.CascadeClassifier('haarcascade_frontalface_default.xml')\n",
    "eye_cascade = cv2.CascadeClassifier('haarcascade_eye.xml')"
   ]
  },
  {
   "cell_type": "code",
   "execution_count": 8,
   "metadata": {
    "collapsed": true
   },
   "outputs": [],
   "source": [
    "# Defining a function that will do the detections for each frame of the live video stream\n",
    "def detect(gray, frame):\n",
    "    faces = face_cascade.detectMultiScale(gray, 1.3, 5) # will detect and return coordinates of region of interest, ie, regions\n",
    "    # containing faces\n",
    "    for (x, y, w, h) in faces:\n",
    "        cv2.rectangle(frame, (x, y), (x+w, y+h), (255, 0, 0), 2) # will draw rectangle around faces\n",
    "        roi_gray = gray[y:y+h, x:x+w] # region of interest in grayscale image - to apply the cascade to detect eyes\n",
    "        roi_color = frame[y:y+h, x:x+w] # region of interest in original image - to draw the rectangles in\n",
    "        eyes = eye_cascade.detectMultiScale(roi_gray, 1.1, 3) # detect eyes wrt each face\n",
    "        for (ex, ey, ew, eh) in eyes:\n",
    "            cv2.rectangle(roi_color, (ex, ey), (ex+ew, ey+eh), (0, 255, 0), 2) # draw rectangles around the eyes\n",
    "    return frame"
   ]
  },
  {
   "cell_type": "code",
   "execution_count": 9,
   "metadata": {
    "collapsed": true
   },
   "outputs": [],
   "source": [
    "# Doing Face Recognition with the webcam\n",
    "video_capture = cv2.VideoCapture(1) \n",
    "while True:\n",
    "    _,frame = video_capture.read() # to get the last frame coming from the webcam\n",
    "    if _ is True:\n",
    "        gray = cv2.cvtColor(frame, cv2.COLOR_BGR2GRAY) # equivalent grayscale image\n",
    "    else:\n",
    "        continue\n",
    "    cv2.imshow('Video', detect(gray, frame)) # call detect() for each frame\n",
    "    if cv2.waitKey(1) & 0xFF == ord('q'): # if 'q' is pressed, will terminate\n",
    "        break\n",
    "video_capture.release() # turn off webcam\n",
    "cv2.destroyAllWindows() # destroy all windows in which image was displayed"
   ]
  }
 ],
 "metadata": {
  "kernelspec": {
   "display_name": "Python 3",
   "language": "python",
   "name": "python3"
  },
  "language_info": {
   "codemirror_mode": {
    "name": "ipython",
    "version": 3
   },
   "file_extension": ".py",
   "mimetype": "text/x-python",
   "name": "python",
   "nbconvert_exporter": "python",
   "pygments_lexer": "ipython3",
   "version": "3.6.3"
  }
 },
 "nbformat": 4,
 "nbformat_minor": 2
}
